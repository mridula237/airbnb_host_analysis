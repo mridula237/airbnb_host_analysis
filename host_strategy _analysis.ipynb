{
 "cells": [
  {
   "cell_type": "code",
   "execution_count": 35,
   "metadata": {},
   "outputs": [],
   "source": [
    "import pandas as pd\n",
    "import numpy as np\n",
    "import plotly.express as px\n",
    "import plotly.io as pio\n",
    "pio.renderers.default = 'browser'"
   ]
  },
  {
   "cell_type": "code",
   "execution_count": 36,
   "metadata": {},
   "outputs": [],
   "source": [
    "%matplotlib inline\n",
    "df = pd.read_csv('data/listings 2.csv')"
   ]
  },
  {
   "cell_type": "code",
   "execution_count": 37,
   "metadata": {},
   "outputs": [],
   "source": [
    "cols_to_keep=[\n",
    "    'id','name','host_id','host_name','host_is_superhost','host_listings_count',\n",
    "    'price', 'number_of_reviews','review_scores_rating','availability_365','room_type',\n",
    "    'latitude','longitude'\n",
    "]\n",
    "df=df[cols_to_keep].copy()"
   ]
  },
  {
   "cell_type": "code",
   "execution_count": 38,
   "metadata": {},
   "outputs": [],
   "source": [
    "#data cleaning\n",
    "# Clean price column\n",
    "df['price'] = df['price'].replace('[\\$,]', '', regex=True)\n",
    "df = df[df['price'].notnull() & (df['price'] != '')]\n",
    "df['price'] = df['price'].astype(float)\n",
    "df['reviews_per_listing'] = df['number_of_reviews'] / df['host_listings_count'].replace(0, np.nan)\n",
    "\n",
    "df['price_per_review'] = df['price'] / df['number_of_reviews'].replace(0, np.nan)\n",
    "\n",
    "# Estimate reviews per month (if reviews_per_month column doesn't exist)\n",
    "df['estimated_reviews_per_month'] = df['number_of_reviews'] / 12\n",
    "# Drop missing review scores\n",
    "df.dropna(subset=['price', 'review_scores_rating'], inplace=True)\n",
    "\n",
    "# Map superhost values to 'Yes'/'No'\n",
    "df['host_is_superhost'] = df['host_is_superhost'].map({'t': 'Yes', 'f': 'No'})\n"
   ]
  },
  {
   "cell_type": "code",
   "execution_count": 39,
   "metadata": {},
   "outputs": [],
   "source": [
    "\n",
    "#  Price Distribution by Superhost Status\n",
    "fig = px.box(\n",
    "    df,\n",
    "    x='host_is_superhost',\n",
    "    y='price',\n",
    "    color='host_is_superhost',\n",
    "    points='all',\n",
    "    title='Price Distribution by Superhost Status',\n",
    "    labels={'host_is_superhost': 'Superhost', 'price': 'Price ($)'}\n",
    ")\n",
    "fig.update_layout(showlegend=False, template='plotly_white')\n",
    "fig.show()\n"
   ]
  },
  {
   "cell_type": "code",
   "execution_count": 40,
   "metadata": {},
   "outputs": [],
   "source": [
    "# Price per Review (Efficiency)\n",
    "fig = px.box(\n",
    "    df,\n",
    "    x='host_is_superhost',\n",
    "    y='price_per_review',\n",
    "    color='host_is_superhost',\n",
    "    title='Price Per Review by Superhost Status',\n",
    "    labels={'host_is_superhost': 'Superhost', 'price_per_review': 'Price per Review ($)'},\n",
    "    points='all'\n",
    ")\n",
    "fig.update_layout(showlegend=False, template='plotly_white')\n",
    "fig.show()"
   ]
  },
  {
   "cell_type": "code",
   "execution_count": 41,
   "metadata": {},
   "outputs": [],
   "source": [
    "#Review Score by Superhost Status\n",
    "\n",
    "fig = px.box(\n",
    "    df,\n",
    "    x='host_is_superhost',\n",
    "    y='review_scores_rating',\n",
    "    color='host_is_superhost',\n",
    "    points='all',\n",
    "    title='Review Scores by Superhost Status',\n",
    "    labels={'host_is_superhost': 'Superhost', 'review_scores_rating': 'Review Rating'}\n",
    ")\n",
    "fig.update_layout(showlegend=False, template='plotly_white')\n",
    "fig.show()\n",
    "\n"
   ]
  },
  {
   "cell_type": "code",
   "execution_count": 42,
   "metadata": {},
   "outputs": [],
   "source": [
    "# Number of Reviews by Superhost Status\n",
    "fig = px.box(\n",
    "    df,\n",
    "    x='host_is_superhost',\n",
    "    y='number_of_reviews',\n",
    "    color='host_is_superhost',\n",
    "    points='all',\n",
    "    title='Number of Reviews by Superhost Status',\n",
    "    labels={'host_is_superhost': 'Superhost', 'number_of_reviews': 'Number of Reviews'}\n",
    ")\n",
    "fig.update_layout(showlegend=False, template='plotly_white')\n",
    "fig.show()"
   ]
  },
  {
   "cell_type": "code",
   "execution_count": 43,
   "metadata": {},
   "outputs": [
    {
     "name": "stderr",
     "output_type": "stream",
     "text": [
      "/var/folders/p1/gfjjx_994yl9k5q65v7dtg_40000gn/T/ipykernel_7549/3290488152.py:2: DeprecationWarning:\n",
      "\n",
      "*scatter_mapbox* is deprecated! Use *scatter_map* instead. Learn more at: https://plotly.com/python/mapbox-to-maplibre/\n",
      "\n"
     ]
    }
   ],
   "source": [
    "df_map = df[['latitude', 'longitude', 'host_is_superhost', 'price', 'room_type']].dropna().copy()\n",
    "fig = px.scatter_mapbox(\n",
    "    df_map,\n",
    "    lat=\"latitude\",\n",
    "    lon=\"longitude\",\n",
    "    color=\"host_is_superhost\",\n",
    "    hover_data=[\"price\", \"room_type\"],\n",
    "    zoom=11,\n",
    "    height=500,\n",
    "    mapbox_style=\"carto-positron\",\n",
    "    title=\"Airbnb Listings by Superhost Status (Map View)\"\n",
    ")\n",
    "\n",
    "fig.show()\n"
   ]
  },
  {
   "cell_type": "code",
   "execution_count": 44,
   "metadata": {},
   "outputs": [
    {
     "name": "stdout",
     "output_type": "stream",
     "text": [
      "['id', 'name', 'host_id', 'host_name', 'host_is_superhost', 'host_listings_count', 'price', 'number_of_reviews', 'review_scores_rating', 'availability_365', 'room_type', 'latitude', 'longitude', 'reviews_per_listing', 'price_per_review', 'estimated_reviews_per_month']\n"
     ]
    }
   ],
   "source": [
    "print(df.columns.tolist())"
   ]
  }
 ],
 "metadata": {
  "kernelspec": {
   "display_name": "Python 3",
   "language": "python",
   "name": "python3"
  },
  "language_info": {
   "codemirror_mode": {
    "name": "ipython",
    "version": 3
   },
   "file_extension": ".py",
   "mimetype": "text/x-python",
   "name": "python",
   "nbconvert_exporter": "python",
   "pygments_lexer": "ipython3",
   "version": "3.9.6"
  }
 },
 "nbformat": 4,
 "nbformat_minor": 2
}
